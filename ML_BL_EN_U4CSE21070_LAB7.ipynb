{
  "nbformat": 4,
  "nbformat_minor": 0,
  "metadata": {
    "colab": {
      "provenance": [],
      "authorship_tag": "ABX9TyOty+o2F4ev0urDr4MDmETU",
      "include_colab_link": true
    },
    "kernelspec": {
      "name": "python3",
      "display_name": "Python 3"
    },
    "language_info": {
      "name": "python"
    }
  },
  "cells": [
    {
      "cell_type": "markdown",
      "metadata": {
        "id": "view-in-github",
        "colab_type": "text"
      },
      "source": [
        "<a href=\"https://colab.research.google.com/github/ROYALKINGISK/ML-LAB/blob/main/ML_BL_EN_U4CSE21070_LAB7.ipynb\" target=\"_parent\"><img src=\"https://colab.research.google.com/assets/colab-badge.svg\" alt=\"Open In Colab\"/></a>"
      ]
    },
    {
      "cell_type": "code",
      "source": [
        "#A1\n",
        "import numpy as np\n",
        "import pandas as pd\n",
        "from sklearn import svm\n",
        "from sklearn.model_selection import train_test_split\n",
        "from sklearn.impute import SimpleImputer\n",
        "df = pd.read_csv('extracted_features_conv2d_29.csv')\n",
        "X = df.drop('class_name', axis=1)\n",
        "y = df['class_name']\n",
        "X_train, X_test, y_train, y_test = train_test_split(X, y, test_size=0.2, random_state=42)\n",
        "feature_imputer = SimpleImputer(strategy='mean')\n",
        "X_train_imputed = feature_imputer.fit_transform(X_train)\n",
        "X_test_imputed = feature_imputer.transform(X_test)\n",
        "target_imputer = SimpleImputer(strategy='mean')\n",
        "y_train_imputed = target_imputer.fit_transform(y_train.values.reshape(-1, 1)).flatten()\n",
        "y_test_imputed = target_imputer.transform(y_test.values.reshape(-1, 1)).flatten()\n",
        "clf = svm.SVC()\n",
        "clf.fit(X_train_imputed, y_train_imputed)\n",
        "support_vectors = clf.support_vectors_\n",
        "print(\"Support Vectors:\")\n",
        "print(support_vectors)\n"
      ],
      "metadata": {
        "colab": {
          "base_uri": "https://localhost:8080/"
        },
        "id": "eocq0FgEnpe9",
        "outputId": "af3cde9d-a028-4bb4-f771-095b9f0626c4"
      },
      "execution_count": 23,
      "outputs": [
        {
          "output_type": "stream",
          "name": "stdout",
          "text": [
            "Support Vectors:\n",
            "[[18.131514  0.        0.       ...  0.        0.        0.      ]\n",
            " [17.41229   0.        0.       ...  0.        0.        0.      ]\n",
            " [13.117314  0.        0.       ...  0.        0.        0.      ]\n",
            " ...\n",
            " [ 0.        7.173434  0.       ...  0.        0.        0.      ]\n",
            " [ 0.       13.745393  0.       ...  0.        0.        0.      ]\n",
            " [ 0.        9.659899  0.       ...  0.        0.        0.      ]]\n"
          ]
        }
      ]
    },
    {
      "cell_type": "code",
      "source": [
        "#A2\n",
        "from sklearn.metrics import accuracy_score\n",
        "y_pred = clf.predict(X_test_imputed)\n",
        "accuracy = accuracy_score(y_test_imputed, y_pred)\n",
        "print(\"Accuracy:\", accuracy)"
      ],
      "metadata": {
        "colab": {
          "base_uri": "https://localhost:8080/"
        },
        "id": "fMxcWGvxoBTV",
        "outputId": "085d027f-b3f6-4dd6-acf7-367af4abff90"
      },
      "execution_count": 24,
      "outputs": [
        {
          "output_type": "stream",
          "name": "stdout",
          "text": [
            "Accuracy: 0.8625766871165644\n"
          ]
        }
      ]
    },
    {
      "cell_type": "code",
      "source": [
        "#A3\n",
        "import numpy as np\n",
        "import pandas as pd\n",
        "from sklearn import svm\n",
        "from sklearn.model_selection import train_test_split\n",
        "from sklearn.impute import SimpleImputer\n",
        "from sklearn.metrics import accuracy_score\n",
        "\n",
        "\n",
        "# Split the dataset into training and testing sets\n",
        "X_train, X_test, y_train, y_test = train_test_split(X, y, test_size=0.2, random_state=42)\n",
        "\n",
        "# Handle missing values in features using mean imputation\n",
        "feature_imputer = SimpleImputer(strategy='mean')\n",
        "X_train_imputed = feature_imputer.fit_transform(X_train)\n",
        "X_test_imputed = feature_imputer.transform(X_test)\n",
        "\n",
        "# Handle missing values in the target variable (labels) using mean imputation\n",
        "target_imputer = SimpleImputer(strategy='mean')\n",
        "y_train_imputed = target_imputer.fit_transform(y_train.values.reshape(-1, 1)).flatten()\n",
        "y_test_imputed = target_imputer.transform(y_test.values.reshape(-1, 1)).flatten()\n",
        "\n",
        "# Create an SVM classifier\n",
        "clf = svm.SVC()\n",
        "\n",
        "# Train the SVM classifier\n",
        "clf.fit(X_train_imputed, y_train_imputed)\n",
        "\n",
        "# Predict on the test set directly\n",
        "y_pred_classes = clf.predict(X_test_imputed)\n",
        "\n",
        "# Calculate accuracy using the predicted classes\n",
        "accuracy = accuracy_score(y_test_imputed, y_pred_classes)\n",
        "print(\"Accuracy (custom logic):\", accuracy)\n",
        "\n"
      ],
      "metadata": {
        "colab": {
          "base_uri": "https://localhost:8080/"
        },
        "id": "0VqtKG5Er2Rb",
        "outputId": "8451a477-6eb7-4e68-9462-a38a2070f7a8"
      },
      "execution_count": 29,
      "outputs": [
        {
          "output_type": "stream",
          "name": "stdout",
          "text": [
            "Accuracy (custom logic): 0.8625766871165644\n"
          ]
        }
      ]
    },
    {
      "cell_type": "code",
      "source": [
        "#A4\n",
        "kernel_functions = ['linear', 'poly', 'rbf', 'sigmoid']\n",
        "\n",
        "for kernel_function in kernel_functions:\n",
        "    # Create an SVM classifier with the specified kernel function\n",
        "    clf = svm.SVC(kernel=kernel_function)\n",
        "\n",
        "    # Train the SVM classifier\n",
        "    clf.fit(X_train_imputed, y_train_imputed)\n",
        "\n",
        "    # Predict on the test set\n",
        "    y_pred = clf.predict(X_test_imputed)\n",
        "\n",
        "    # Calculate accuracy\n",
        "    accuracy = accuracy_score(y_test_imputed, y_pred)\n",
        "    print(f\"Accuracy with {kernel_function} kernel: {accuracy}\")"
      ],
      "metadata": {
        "colab": {
          "base_uri": "https://localhost:8080/"
        },
        "id": "d8wjPYxzrCnl",
        "outputId": "46d8e558-5463-42fc-9a21-e864d6e218bd"
      },
      "execution_count": 25,
      "outputs": [
        {
          "output_type": "stream",
          "name": "stdout",
          "text": [
            "Accuracy with linear kernel: 0.905521472392638\n",
            "Accuracy with poly kernel: 0.8607361963190184\n",
            "Accuracy with rbf kernel: 0.8625766871165644\n",
            "Accuracy with sigmoid kernel: 0.48466257668711654\n"
          ]
        }
      ]
    }
  ]
}