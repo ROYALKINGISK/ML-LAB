{
  "nbformat": 4,
  "nbformat_minor": 0,
  "metadata": {
    "colab": {
      "provenance": [],
      "authorship_tag": "ABX9TyNB7ArY+yriJJWT9FasPp0z",
      "include_colab_link": true
    },
    "kernelspec": {
      "name": "python3",
      "display_name": "Python 3"
    },
    "language_info": {
      "name": "python"
    }
  },
  "cells": [
    {
      "cell_type": "markdown",
      "metadata": {
        "id": "view-in-github",
        "colab_type": "text"
      },
      "source": [
        "<a href=\"https://colab.research.google.com/github/ROYALKINGISK/ML-LAB/blob/main/MLLAB3_BL.EN.U4CSE21070.ipynb\" target=\"_parent\"><img src=\"https://colab.research.google.com/assets/colab-badge.svg\" alt=\"Open In Colab\"/></a>"
      ]
    },
    {
      "cell_type": "code",
      "execution_count": 2,
      "metadata": {
        "colab": {
          "base_uri": "https://localhost:8080/"
        },
        "id": "I0bsR98Npsvu",
        "outputId": "5a049b01-3830-4fec-ea36-8b5414f7ecd1"
      },
      "outputs": [
        {
          "output_type": "stream",
          "name": "stdout",
          "text": [
            "Label: 3333, Mean: 0.8821726654384845\n",
            "Label: 3334, Mean: 0.03170015570815209\n",
            "Label: 3335, Mean: 0.00022572786463252986\n",
            "Label: 3337, Mean: 4.72838611380569e-10\n",
            "Label: 3342, Mean: 0.16554961693465514\n",
            "Label: 3343, Mean: 0.13120669266394938\n",
            "Label: 3346, Mean: 9.205744579816461e-10\n",
            "Label: 3349, Mean: 0.010745363877301057\n",
            "Label: 3350, Mean: 0.04212245895628723\n",
            "Label: 3351, Mean: 3.376517016869792e-06\n",
            "Label: 3352, Mean: 0.046230156514934666\n",
            "Label: 3353, Mean: 0.008045612178402153\n",
            "Label: 3354, Mean: 0.00038638887598223314\n",
            "Label: 3355, Mean: 0.1384559593577171\n",
            "Label: 3356, Mean: 0.011832844682143946\n",
            "Label: 3357, Mean: 0.2511702081359326\n",
            "Label: 3358, Mean: 0.41819415018338235\n",
            "Label: 3359, Mean: 7.814744143714991e-06\n",
            "Label: 3360, Mean: 0.0020688841210290744\n",
            "Label: 3361, Mean: 5.678966147958141e-08\n",
            "Label: 3362, Mean: 3.787299866579526e-05\n",
            "Label: 3363, Mean: 0.04188758487109601\n",
            "Label: 3364, Mean: 0.013717525072434464\n",
            "Label: 3365, Mean: 1.4992122158488294e-07\n",
            "Label: 3366, Mean: 0.006644919527633783\n",
            "Label: 3367, Mean: 1.367695746541492e-07\n",
            "Label: 3368, Mean: 0.013312716271138763\n",
            "Label: 3370, Mean: 4.841448545910162e-07\n",
            "Label: 3371, Mean: 2.822435887307685e-05\n",
            "Label: 3372, Mean: 0.03806144371470547\n",
            "Label: 3373, Mean: 2.169787660001615e-06\n",
            "Label: 3374, Mean: 0.0007380649443521862\n",
            "Label: 3375, Mean: 0.06963835916257818\n",
            "Label: 3376, Mean: 0.0005710261763247809\n",
            "Label: 3377, Mean: 0.009647617392477584\n",
            "Label: 3378, Mean: 0.035479152170737126\n",
            "Label: 3379, Mean: 4.242186389529774e-07\n",
            "Label: 3380, Mean: 1.046687727115079e-12\n",
            "Label: 3381, Mean: 0.00016991054856370223\n",
            "Label: 3382, Mean: 0.08796901373329531\n",
            "Label: 3383, Mean: 0.043509193577513566\n",
            "Label: 3384, Mean: 0.1537340410029849\n",
            "Label: 3385, Mean: 0.044794872251540524\n",
            "Label: 3450, Mean: 1.3076853673320375e-06\n",
            "Label: 3451, Mean: 0.00021915189456516983\n",
            "Label: 3452, Mean: 3.3218436313602227e-13\n",
            "Label: 3453, Mean: 0.011345252526042088\n",
            "Label: 3454, Mean: 9.118156536922918e-06\n",
            "Label: 3333, Standard Deviation: 0.30027813745036747\n",
            "Label: 3334, Standard Deviation: 0.16004619223030161\n",
            "Label: 3335, Standard Deviation: 0.002077997315469781\n",
            "Label: 3337, Standard Deviation: 4.42274011879149e-09\n",
            "Label: 3342, Standard Deviation: 0.3551470504278939\n",
            "Label: 3343, Standard Deviation: 0.32189887446123244\n",
            "Label: 3346, Standard Deviation: 1.0120182690256793e-08\n",
            "Label: 3349, Standard Deviation: 0.09953617901022975\n",
            "Label: 3350, Standard Deviation: 0.18286418780096297\n",
            "Label: 3351, Standard Deviation: 2.570303613790866e-05\n",
            "Label: 3352, Standard Deviation: 0.2018397180178457\n",
            "Label: 3353, Standard Deviation: 0.08236854900516308\n",
            "Label: 3354, Standard Deviation: 0.005016583308187382\n",
            "Label: 3355, Standard Deviation: 0.3248745028377229\n",
            "Label: 3356, Standard Deviation: 0.10399098757689978\n",
            "Label: 3357, Standard Deviation: 0.415140241528679\n",
            "Label: 3358, Standard Deviation: 0.47103230941485275\n",
            "Label: 3359, Standard Deviation: 0.00012668903664807035\n",
            "Label: 3360, Standard Deviation: 0.03551008525978524\n",
            "Label: 3361, Standard Deviation: 9.60522899644704e-07\n",
            "Label: 3362, Standard Deviation: 0.0006126720255063959\n",
            "Label: 3363, Standard Deviation: 0.19027425550020266\n",
            "Label: 3364, Standard Deviation: 0.09875980639795295\n",
            "Label: 3365, Standard Deviation: 1.5568396822046284e-06\n",
            "Label: 3366, Standard Deviation: 0.07288393089233554\n",
            "Label: 3367, Standard Deviation: 1.102120174947276e-06\n",
            "Label: 3368, Standard Deviation: 0.1097622293640976\n",
            "Label: 3370, Standard Deviation: 4.2308111188395385e-06\n",
            "Label: 3371, Standard Deviation: 0.00015596114949301102\n",
            "Label: 3372, Standard Deviation: 0.17473211641246733\n",
            "Label: 3373, Standard Deviation: 1.8251026661895885e-05\n",
            "Label: 3374, Standard Deviation: 0.007812731433153699\n",
            "Label: 3375, Standard Deviation: 0.22507349944893865\n",
            "Label: 3376, Standard Deviation: 0.006863693118328291\n",
            "Label: 3377, Standard Deviation: 0.08186859785248841\n",
            "Label: 3378, Standard Deviation: 0.17035203436307697\n",
            "Label: 3379, Standard Deviation: 4.080312730896412e-06\n",
            "Label: 3380, Standard Deviation: 9.78495138725595e-12\n",
            "Label: 3381, Standard Deviation: 0.0012866842243940313\n",
            "Label: 3382, Standard Deviation: 0.2728786296373934\n",
            "Label: 3383, Standard Deviation: 0.17699035648448894\n",
            "Label: 3384, Standard Deviation: 0.342485055162111\n",
            "Label: 3385, Standard Deviation: 0.20467291676895957\n",
            "Label: 3450, Standard Deviation: 9.703662601759842e-06\n",
            "Label: 3451, Standard Deviation: 0.0016146005457580233\n",
            "Label: 3452, Standard Deviation: 2.5774162336114514e-12\n",
            "Label: 3453, Standard Deviation: 0.10568889392641896\n",
            "Label: 3454, Standard Deviation: 8.10437541803771e-05\n"
          ]
        }
      ],
      "source": [
        "import pandas as pd\n",
        "import numpy as np\n",
        "# Load the dataset\n",
        "data = pd.read_csv('extracted_features_charrec.csv')\n",
        "# Group the data by the unique labels in the 'labels' column\n",
        "grouped_data = data.groupby('class_name')\n",
        "# Initialize empty lists to store means and standard deviations\n",
        "means = []\n",
        "std_devs = []\n",
        "# Iterate through unique labels\n",
        "for label, group in grouped_data:\n",
        "    # Calculate the mean and standard deviation for each group\n",
        "    mean = np.mean(group['0'])  # Replace 'numeric_column' with the column containing numerical data\n",
        "    std_dev = np.std(group['0'])  # Replace 'numeric_column' with the column containing numerical data\n",
        "    # Append the results to the respective lists\n",
        "    means.append((label, mean))\n",
        "    std_devs.append((label, std_dev))\n",
        "# Print the means and standard deviations for each unique label\n",
        "for label, mean in means:\n",
        "    print(f\"Label: {label}, Mean: {mean}\")\n",
        "for label, std_dev in std_devs:\n",
        "    print(f\"Label: {label}, Standard Deviation: {std_dev}\")"
      ]
    }
  ]
}